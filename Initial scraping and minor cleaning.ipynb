{
 "cells": [
  {
   "cell_type": "code",
   "execution_count": 2,
   "metadata": {},
   "outputs": [],
   "source": [
    "import pandas as pd\n",
    "import numpy as np\n",
    "from bs4 import BeautifulSoup"
   ]
  },
  {
   "cell_type": "code",
   "execution_count": 8,
   "metadata": {},
   "outputs": [],
   "source": [
    "# get the response in the form of html\n",
    "ww2_url= \"https://en.wikipedia.org/wiki/World_War_II_casualties\"\n",
    "ww2_df = pd.read_html(ww2_url)[0]\n",
    "\n",
    "ww1_url= \"https://en.wikipedia.org/wiki/World_War_I_casualties\"\n",
    "ww1_df = pd.read_html(ww1_url)[0]\n",
    "ww1_df.columns = ww1_df.columns.droplevel(1)  #remove multi-index layer\n",
    "\n",
    "#Drop non-duplicated data\n",
    "ww1_df = ww1_df.drop(['Combat deaths and missing in action (included in total military deaths)'], axis=1) \n",
    "ww2_df = ww2_df.drop(columns = ww2_df.columns[7])\n",
    "\n",
    "#Drop index rows\n",
    "ww1_df = ww1_df[ww1_df['Nation'] != 'Central Powers']\n",
    "ww1_df = ww1_df[ww1_df['Nation'] != 'TotalAllied Powers']\n",
    "ww1_df = ww1_df[ww1_df['Nation'] != 'TotalCentral Powers']\n",
    "ww1_df = ww1_df[ww1_df['Nation'] != 'Neutral nations']\n",
    "ww1_df = ww1_df[ww1_df['Nation'] != 'Grand total']"
   ]
  },
  {
   "cell_type": "code",
   "execution_count": 9,
   "metadata": {},
   "outputs": [],
   "source": [
    "#Clean for merge\n",
    "names = [\"Nation\", \"Population\", \"Total military deaths from all causes\", \"Civilian deaths due to direct military action\", \n",
    "\"Civilian deaths due to indirect military action\",\"Total deaths\", 'Deaths as percent of population', 'Military wounded']\n",
    "ww1_df.columns = names\n",
    "ww2_df.columns = names\n",
    "\n",
    "ww1_df['Population'] = ww1_df['Population'] + \" Million\"\n",
    "ww2_df[\"War\"] = \"World War 2\"\n",
    "ww1_df[\"War\"] = \"World War 1\"\n"
   ]
  },
  {
   "cell_type": "code",
   "execution_count": 10,
   "metadata": {},
   "outputs": [],
   "source": [
    "#Concat the Data\n",
    "data = pd.concat([ww1_df, ww2_df])\n",
    "\n",
    "data.to_csv(\"Uncleaned_data.csv\")\n",
    "\n"
   ]
  }
 ],
 "metadata": {
  "kernelspec": {
   "display_name": "Python 3.9.13 64-bit (microsoft store)",
   "language": "python",
   "name": "python3"
  },
  "language_info": {
   "codemirror_mode": {
    "name": "ipython",
    "version": 3
   },
   "file_extension": ".py",
   "mimetype": "text/x-python",
   "name": "python",
   "nbconvert_exporter": "python",
   "pygments_lexer": "ipython3",
   "version": "3.9.13"
  },
  "orig_nbformat": 4,
  "vscode": {
   "interpreter": {
    "hash": "87d4782405f722ac82ba9df7440f6dd4fbd9e5efa1b5a2c3bf96acf4edc2a96b"
   }
  }
 },
 "nbformat": 4,
 "nbformat_minor": 2
}
